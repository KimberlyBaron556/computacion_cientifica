{
 "cells": [
  {
   "cell_type": "code",
   "execution_count": 18,
   "id": "5a92c0c8-b936-4ece-bd1a-576e0d234b7d",
   "metadata": {},
   "outputs": [
    {
     "name": "stdin",
     "output_type": "stream",
     "text": [
      "ingresa tu nombre sofi\n"
     ]
    },
    {
     "name": "stdout",
     "output_type": "stream",
     "text": [
      "Hola sofi, ¿como estas? Te doy la bienvenida a Phyton.\n"
     ]
    }
   ],
   "source": [
    "nombre = input(\"ingresa tu nombre\")\n",
    "print(f\"Hola {nombre}, ¿como estas? Te doy la bienvenida a Phyton.\")"
   ]
  },
  {
   "cell_type": "code",
   "execution_count": 20,
   "id": "f711bf2c-ae6d-4f86-9153-1b3b4902963b",
   "metadata": {},
   "outputs": [
    {
     "name": "stdin",
     "output_type": "stream",
     "text": [
      "ingrese el numero 98867\n"
     ]
    },
    {
     "name": "stdout",
     "output_type": "stream",
     "text": [
      "es primo\n",
      "None\n"
     ]
    }
   ],
   "source": [
    "def primo(n):\n",
    "    lista = []\n",
    "    for i in range(1, n):\n",
    "        if (n % i) == 0:\n",
    "            lista.append(i)\n",
    "    \n",
    "    if len(lista) == 1:\n",
    "        print(\"es primo\")\n",
    "    else:\n",
    "        return print(lista)\n",
    "\n",
    "n = int(input(\"ingrese el numero\"))\n",
    "print(primo(n))"
   ]
  },
  {
   "cell_type": "code",
   "execution_count": 22,
   "id": "7e9b1953-239f-4aee-94ad-f7bff68c0bd3",
   "metadata": {},
   "outputs": [
    {
     "name": "stdin",
     "output_type": "stream",
     "text": [
      "ingrese el texto El software de sistema es un conjunto de programas preinstalados en el computador o sistema informático que permiten interactuar con el Sistema Operativo y garantizan el control digital del hardware. Este software base también se ofrece como soporte para otros programas. El software de sistema incluye el sistema operativo, los drivers o controladores, y en menor medida también podemos incluir a las librerías dentro de esta categoría\n",
      "ingrese la vocal que desea contar:  a\n"
     ]
    },
    {
     "name": "stdout",
     "output_type": "stream",
     "text": [
      "la cantidad de vocales es: 38\n"
     ]
    }
   ],
   "source": [
    "texto = str(input(\"ingrese el texto\"))  \n",
    "letra = str(input(\"ingrese la vocal que desea contar: \"))  \n",
    "\n",
    "contar = 0  \n",
    "for i in range(0, len(texto)):  \n",
    "    caracter = texto[i].lower()  \n",
    "    if caracter == letra:  \n",
    "        contar = contar + 1  \n",
    "\n",
    "print(f\"la cantidad de vocales es: {contar}\")"
   ]
  },
  {
   "cell_type": "code",
   "execution_count": 24,
   "id": "2eed1fd2-6be3-4942-a122-ed7b70c9e555",
   "metadata": {},
   "outputs": [
    {
     "name": "stdout",
     "output_type": "stream",
     "text": [
      "Adivina el número entre 1 y 10\n"
     ]
    },
    {
     "name": "stdin",
     "output_type": "stream",
     "text": [
      "Ingresa tu número:  3\n"
     ]
    },
    {
     "name": "stdout",
     "output_type": "stream",
     "text": [
      "El número es mayor, intenta de nuevo.\n"
     ]
    },
    {
     "name": "stdin",
     "output_type": "stream",
     "text": [
      "Ingresa tu número:  6\n"
     ]
    },
    {
     "name": "stdout",
     "output_type": "stream",
     "text": [
      "El número es mayor, intenta de nuevo.\n"
     ]
    },
    {
     "name": "stdin",
     "output_type": "stream",
     "text": [
      "Ingresa tu número:  7\n"
     ]
    },
    {
     "name": "stdout",
     "output_type": "stream",
     "text": [
      "¡Felicidades! Has adivinado el número.\n"
     ]
    }
   ],
   "source": [
    "numero_secreto = 7\n",
    "print(\"Adivina el número entre 1 y 10\")\n",
    "\n",
    "while True:\n",
    "    intento = int(input(\"Ingresa tu número: \"))\n",
    "    if intento < numero_secreto:\n",
    "        print(\"El número es mayor, intenta de nuevo.\")\n",
    "    elif intento > numero_secreto:\n",
    "        print(\"El número es menor, intenta de nuevo.\")\n",
    "    else:\n",
    "        print(\"¡Felicidades! Has adivinado el número.\")\n",
    "        break"
   ]
  },
  {
   "cell_type": "code",
   "execution_count": 26,
   "id": "97427d53-3ca2-4115-b2e7-b9e32df28d14",
   "metadata": {},
   "outputs": [
    {
     "name": "stdin",
     "output_type": "stream",
     "text": [
      "ingresa un numero:  78\n"
     ]
    },
    {
     "name": "stdout",
     "output_type": "stream",
     "text": [
      "tabla de multiplicar del 78:\n",
      "78 × 1 = 78\n",
      "78 × 2 = 156\n",
      "78 × 3 = 234\n",
      "78 × 4 = 312\n",
      "78 × 5 = 390\n",
      "78 × 6 = 468\n",
      "78 × 7 = 546\n",
      "78 × 8 = 624\n",
      "78 × 9 = 702\n",
      "78 × 10 = 780\n"
     ]
    }
   ],
   "source": [
    "numero = int(input(\"ingresa un numero: \"))  \n",
    "print(f\"tabla de multiplicar del {numero}:\")  \n",
    "for i in range(1,11):  \n",
    "    print(f\"{numero} × {i} = {numero*i}\")"
   ]
  },
  {
   "cell_type": "code",
   "execution_count": 28,
   "id": "1223d23b-e657-45ec-a0ee-b521cc9d650f",
   "metadata": {},
   "outputs": [
    {
     "name": "stdin",
     "output_type": "stream",
     "text": [
      "ingrese los pisos de la piramide:  5\n"
     ]
    },
    {
     "name": "stdout",
     "output_type": "stream",
     "text": [
      "    *\n",
      "   ***\n",
      "  *****\n",
      " *******\n",
      "*********\n"
     ]
    }
   ],
   "source": [
    "n = int(input(\"ingrese los pisos de la piramide: \"))  \n",
    "for i in range(1, n + 1):  \n",
    "    espacios = \" \" * (n - i)  \n",
    "    asteriscos = \"*\" * (2 * i - 1)  \n",
    "    print(espacios + asteriscos)"
   ]
  },
  {
   "cell_type": "code",
   "execution_count": null,
   "id": "59ba1c12-8d6c-455e-a801-2ba9768ccf26",
   "metadata": {},
   "outputs": [],
   "source": []
  }
 ],
 "metadata": {
  "kernelspec": {
   "display_name": "Python [conda env:base] *",
   "language": "python",
   "name": "conda-base-py"
  },
  "language_info": {
   "codemirror_mode": {
    "name": "ipython",
    "version": 3
   },
   "file_extension": ".py",
   "mimetype": "text/x-python",
   "name": "python",
   "nbconvert_exporter": "python",
   "pygments_lexer": "ipython3",
   "version": "3.12.7"
  }
 },
 "nbformat": 4,
 "nbformat_minor": 5
}
